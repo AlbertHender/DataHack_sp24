{
 "cells": [
  {
   "cell_type": "code",
   "execution_count": 1,
   "metadata": {},
   "outputs": [
    {
     "name": "stderr",
     "output_type": "stream",
     "text": [
      "/var/folders/nt/trr1v_vd75qb1zyf0b0xzkzc0000gn/T/ipykernel_98592/3730242603.py:2: DtypeWarning: Columns (3,21,22,23,40,44,47,49,50,51,52,53,60,63,64,65,67,70,71,72,73,74,75,76,78,79,80,81,82,83,84,85,86,87,88,89,93,94,95,96,97,104,109,110,111) have mixed types. Specify dtype option on import or set low_memory=False.\n",
      "  df = pd.read_csv('https://query.data.world/s/qpsvcluurxluqxr33cnwccmuce5xvj?dws=00000')\n"
     ]
    }
   ],
   "source": [
    "import pandas as pd\n",
    "df = pd.read_csv('https://query.data.world/s/qpsvcluurxluqxr33cnwccmuce5xvj?dws=00000')"
   ]
  },
  {
   "cell_type": "code",
   "execution_count": 1,
   "metadata": {},
   "outputs": [
    {
     "ename": "NameError",
     "evalue": "name 'df' is not defined",
     "output_type": "error",
     "traceback": [
      "\u001b[0;31m---------------------------------------------------------------------------\u001b[0m",
      "\u001b[0;31mNameError\u001b[0m                                 Traceback (most recent call last)",
      "\u001b[0;32m/var/folders/nt/trr1v_vd75qb1zyf0b0xzkzc0000gn/T/ipykernel_4087/581630111.py\u001b[0m in \u001b[0;36m<module>\u001b[0;34m\u001b[0m\n\u001b[0;32m----> 1\u001b[0;31m \u001b[0mdf_cleaned\u001b[0m \u001b[0;34m=\u001b[0m \u001b[0mdf\u001b[0m\u001b[0;34m.\u001b[0m\u001b[0mdrop\u001b[0m\u001b[0;34m(\u001b[0m\u001b[0mcolumns\u001b[0m \u001b[0;34m=\u001b[0m \u001b[0;34m[\u001b[0m\u001b[0;34m'reid_no'\u001b[0m\u001b[0;34m,\u001b[0m \u001b[0;34m'flags'\u001b[0m\u001b[0;34m,\u001b[0m \u001b[0;34m'accepted_rank'\u001b[0m\u001b[0;34m,\u001b[0m \u001b[0;34m'accepted_attr'\u001b[0m\u001b[0;34m,\u001b[0m \u001b[0;34m'ref_author'\u001b[0m\u001b[0;34m,\u001b[0m \u001b[0;34m'plant_organ'\u001b[0m\u001b[0;34m,\u001b[0m \u001b[0;34m'plant_organ2'\u001b[0m\u001b[0;34m,\u001b[0m \u001b[0;34m'collection_subset'\u001b[0m\u001b[0;34m,\u001b[0m \u001b[0;34m'collection_aka'\u001b[0m\u001b[0;34m,\u001b[0m \u001b[0;34m'county'\u001b[0m\u001b[0;34m,\u001b[0m \u001b[0;34m'protected'\u001b[0m\u001b[0;34m,\u001b[0m \u001b[0;34m'stratgroup'\u001b[0m\u001b[0;34m,\u001b[0m \u001b[0;34m'stratscale'\u001b[0m\u001b[0;34m,\u001b[0m\u001b[0;34m'reproduction'\u001b[0m\u001b[0;34m,\u001b[0m\u001b[0;34m'ontogeny'\u001b[0m\u001b[0;34m,\u001b[0m \u001b[0;34m'composition'\u001b[0m\u001b[0;34m,\u001b[0m \u001b[0;34m'architecture'\u001b[0m\u001b[0;34m,\u001b[0m \u001b[0;34m'thickness'\u001b[0m\u001b[0;34m,\u001b[0m \u001b[0;34m'collection_dates'\u001b[0m\u001b[0;34m,\u001b[0m \u001b[0;34m'collection_comments'\u001b[0m\u001b[0;34m,\u001b[0m \u001b[0;34m'taxon_environment'\u001b[0m\u001b[0;34m,\u001b[0m \u001b[0;34m'environment_basis'\u001b[0m\u001b[0;34m,\u001b[0m \u001b[0;34m'collectors'\u001b[0m\u001b[0;34m]\u001b[0m\u001b[0;34m)\u001b[0m\u001b[0;34m\u001b[0m\u001b[0;34m\u001b[0m\u001b[0m\n\u001b[0m",
      "\u001b[0;31mNameError\u001b[0m: name 'df' is not defined"
     ]
    }
   ],
   "source": [
    "df_cleaned = df.drop(columns = ['reid_no', 'flags', 'accepted_rank', 'accepted_attr', 'ref_author', 'plant_organ', 'plant_organ2', 'collection_subset', 'collection_aka', 'county', 'protected', 'stratgroup', 'stratscale','reproduction','ontogeny', 'composition', 'architecture', 'thickness', 'collection_dates', 'collection_comments', 'taxon_environment', 'environment_basis', 'collectors'])\n"
   ]
  },
  {
   "cell_type": "code",
   "execution_count": null,
   "metadata": {},
   "outputs": [],
   "source": []
  }
 ],
 "metadata": {
  "kernelspec": {
   "display_name": "base",
   "language": "python",
   "name": "python3"
  },
  "language_info": {
   "codemirror_mode": {
    "name": "ipython",
    "version": 3
   },
   "file_extension": ".py",
   "mimetype": "text/x-python",
   "name": "python",
   "nbconvert_exporter": "python",
   "pygments_lexer": "ipython3",
   "version": "3.9.13"
  }
 },
 "nbformat": 4,
 "nbformat_minor": 2
}
